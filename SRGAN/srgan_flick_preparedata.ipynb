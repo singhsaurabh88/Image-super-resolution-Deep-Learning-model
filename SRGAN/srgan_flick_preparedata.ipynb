{
 "cells": [
  {
   "cell_type": "code",
   "execution_count": 1,
   "id": "99c49a93",
   "metadata": {},
   "outputs": [
    {
     "name": "stdout",
     "output_type": "stream",
     "text": [
      "Requirement already satisfied: opencv-python in c:\\users\\hp\\anaconda3\\lib\\site-packages (4.8.0.74)\n",
      "Requirement already satisfied: numpy>=1.17.3 in c:\\users\\hp\\anaconda3\\lib\\site-packages (from opencv-python) (1.24.3)\n",
      "Note: you may need to restart the kernel to use updated packages.\n"
     ]
    },
    {
     "name": "stderr",
     "output_type": "stream",
     "text": [
      "WARNING: Ignoring invalid distribution -pencv-python (c:\\users\\hp\\anaconda3\\lib\\site-packages)\n",
      "WARNING: Ignoring invalid distribution -pencv-python (c:\\users\\hp\\anaconda3\\lib\\site-packages)\n",
      "WARNING: Ignoring invalid distribution -pencv-python (c:\\users\\hp\\anaconda3\\lib\\site-packages)\n",
      "WARNING: Ignoring invalid distribution -pencv-python (c:\\users\\hp\\anaconda3\\lib\\site-packages)\n",
      "WARNING: Ignoring invalid distribution -pencv-python (c:\\users\\hp\\anaconda3\\lib\\site-packages)\n",
      "WARNING: Ignoring invalid distribution -pencv-python (c:\\users\\hp\\anaconda3\\lib\\site-packages)\n"
     ]
    }
   ],
   "source": [
    "# updated opencv\n",
    "#pip install opencv-python --upgrade"
   ]
  },
  {
   "cell_type": "code",
   "execution_count": 11,
   "id": "2d48fc35",
   "metadata": {},
   "outputs": [],
   "source": [
    "# # https://youtu.be/nbRkLE2fiVI\n",
    "# https://youtu.be/1HqjPqNglPc\n",
    "\"\"\"\n",
    "\n",
    "\n",
    "Dataset from: http://press.liacs.nl/mirflickr/mirdownload.html\n",
    "\n",
    "Read high res. original images and save lower versions to be used for SRGAN.\n",
    "\n",
    "Here, we are resizing them to 128x128 that will be  used as HR images and \n",
    "32x32 that will be used as LR images\n",
    "\"\"\"\n",
    "\n",
    "import cv2\n",
    "import numpy as np\n",
    "import os\n",
    "import matplotlib.pyplot as plt"
   ]
  },
  {
   "cell_type": "code",
   "execution_count": 12,
   "id": "7048b031",
   "metadata": {},
   "outputs": [],
   "source": [
    "\n",
    "# Set the local root directory where your images are located\n",
    "#local_root = \"/path/to/your/local/directory\"\n",
    "local_root = \"C:/Python/SEM 3/deep learning and neural networks/srgan\"\n",
    "\n",
    "# Specify the subdirectories for original, HR, and LR images within the local root directory\n",
    "train_dir = os.path.join(local_root, \"data\")\n",
    "original_images_dir = os.path.join(train_dir, \"original_images\")\n",
    "hr_images_dir = os.path.join(train_dir, \"hr_images\")\n",
    "lr_images_dir = os.path.join(train_dir, \"lr_images\")\n",
    "\n",
    "# Create the HR and LR subdirectories if they don't exist\n",
    "os.makedirs(hr_images_dir, exist_ok=True)\n",
    "os.makedirs(lr_images_dir, exist_ok=True)\n",
    "\n",
    "# Image Processing Loop\n",
    "for img in os.listdir(original_images_dir):\n",
    "    img_array = cv2.imread(os.path.join(original_images_dir, img))\n",
    "    img_array = cv2.resize(img_array, (128, 128))\n",
    "    \n",
    "    lr_img_array = cv2.resize(img_array, (32, 32))\n",
    "    \n",
    "    cv2.imwrite(os.path.join(hr_images_dir, img), img_array)\n",
    "    cv2.imwrite(os.path.join(lr_images_dir, img), lr_img_array)"
   ]
  },
  {
   "cell_type": "code",
   "execution_count": null,
   "id": "297c345a",
   "metadata": {},
   "outputs": [],
   "source": [
    "# the above code will create the hr and lr images from the original images"
   ]
  }
 ],
 "metadata": {
  "kernelspec": {
   "display_name": "Python 3 (ipykernel)",
   "language": "python",
   "name": "python3"
  },
  "language_info": {
   "codemirror_mode": {
    "name": "ipython",
    "version": 3
   },
   "file_extension": ".py",
   "mimetype": "text/x-python",
   "name": "python",
   "nbconvert_exporter": "python",
   "pygments_lexer": "ipython3",
   "version": "3.9.12"
  }
 },
 "nbformat": 4,
 "nbformat_minor": 5
}
